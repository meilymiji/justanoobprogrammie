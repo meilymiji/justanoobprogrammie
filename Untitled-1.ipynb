{
 "cells": [
  {
   "cell_type": "code",
   "execution_count": 1,
   "metadata": {},
   "outputs": [],
   "source": [
    "text1 = 'abstract divert oppose admonish dormant panacea advocate egocentric perfunctory alternative elusive preposterous ambiguous emulate precarious analogy equitable precipitate anarchy eradicate preclude assiduous estrange proficient assimilate exacerbate propensity augment expedite qualitative authentic fabricate quantitative belligerent facilitate recalcitrant bolster fortuitous redeem bureaucratic fraudulent rejuvenate circumvent heinous relegate coalition hypothetical relinquish cohesive illicit repugnant collaborate imminent resilient comply impetuous retrospect concurrent incongruous sanction connotation indigenous spontaneous constituent indiscriminate static contingent inherent stringent criteria jurisdiction subordinate demeanor lax subsidize deplore meticulous tenuous derogatory negligent travesty disparity nonchalant tumult disseminate oblivious unilateral dissident obscure validate distraught omnipotent vindicate docile opportune zealot'"
   ]
  },
  {
   "cell_type": "code",
   "execution_count": 2,
   "metadata": {},
   "outputs": [
    {
     "name": "stdout",
     "output_type": "stream",
     "text": [
      "['abstract', 'divert', 'oppose', 'admonish', 'dormant', 'panacea', 'advocate', 'egocentric', 'perfunctory', 'alternative', 'elusive', 'preposterous', 'ambiguous', 'emulate', 'precarious', 'analogy', 'equitable', 'precipitate', 'anarchy', 'eradicate', 'preclude', 'assiduous', 'estrange', 'proficient', 'assimilate', 'exacerbate', 'propensity', 'augment', 'expedite', 'qualitative', 'authentic', 'fabricate', 'quantitative', 'belligerent', 'facilitate', 'recalcitrant', 'bolster', 'fortuitous', 'redeem', 'bureaucratic', 'fraudulent', 'rejuvenate', 'circumvent', 'heinous', 'relegate', 'coalition', 'hypothetical', 'relinquish', 'cohesive', 'illicit', 'repugnant', 'collaborate', 'imminent', 'resilient', 'comply', 'impetuous', 'retrospect', 'concurrent', 'incongruous', 'sanction', 'connotation', 'indigenous', 'spontaneous', 'constituent', 'indiscriminate', 'static', 'contingent', 'inherent', 'stringent', 'criteria', 'jurisdiction', 'subordinate', 'demeanor', 'lax', 'subsidize', 'deplore', 'meticulous', 'tenuous', 'derogatory', 'negligent', 'travesty', 'disparity', 'nonchalant', 'tumult', 'disseminate', 'oblivious', 'unilateral', 'dissident', 'obscure', 'validate', 'distraught', 'omnipotent', 'vindicate', 'docile', 'opportune', 'zealot']\n"
     ]
    }
   ],
   "source": [
    "text11 = text1.split(' ')\n",
    "print(text11)"
   ]
  },
  {
   "cell_type": "code",
   "execution_count": 3,
   "metadata": {},
   "outputs": [],
   "source": [
    "text2 = 'aberration conciliatory incessant abstract contract incidental accolade copious incite accommodate cordial incorrigible aesthetic dearth indict affinity debilitate indoctrinate altercation decadence insurgent ameliorate deference intangible amicable delineate judicious anarchy deprecate lavish anomaly despot listless appall devious meager archaic didactic meander arduous disparage negligent articulate dissonance obliterate astute duplicity ponderous authoritarian edifice preclude aversion effervescent prerequisite biased egregious proximity brevity elusive rectify cajole equivocal rescind callous erroneous resolution capitulate exemplary rigorous catalyst expedient scrutinize catharsis extraneous substantiate caustic formidable surmise censure frivolous tirade chastise grueling turbulence clamor haphazard unimpeachable coalesce heretic unobtrusive cognizant hindrance usurp commiserate hypocrisy vacillate composure iconoclast whimsical'"
   ]
  },
  {
   "cell_type": "code",
   "execution_count": 4,
   "metadata": {},
   "outputs": [
    {
     "name": "stdout",
     "output_type": "stream",
     "text": [
      "['aberration', 'conciliatory', 'incessant', 'abstract', 'contract', 'incidental', 'accolade', 'copious', 'incite', 'accommodate', 'cordial', 'incorrigible', 'aesthetic', 'dearth', 'indict', 'affinity', 'debilitate', 'indoctrinate', 'altercation', 'decadence', 'insurgent', 'ameliorate', 'deference', 'intangible', 'amicable', 'delineate', 'judicious', 'anarchy', 'deprecate', 'lavish', 'anomaly', 'despot', 'listless', 'appall', 'devious', 'meager', 'archaic', 'didactic', 'meander', 'arduous', 'disparage', 'negligent', 'articulate', 'dissonance', 'obliterate', 'astute', 'duplicity', 'ponderous', 'authoritarian', 'edifice', 'preclude', 'aversion', 'effervescent', 'prerequisite', 'biased', 'egregious', 'proximity', 'brevity', 'elusive', 'rectify', 'cajole', 'equivocal', 'rescind', 'callous', 'erroneous', 'resolution', 'capitulate', 'exemplary', 'rigorous', 'catalyst', 'expedient', 'scrutinize', 'catharsis', 'extraneous', 'substantiate', 'caustic', 'formidable', 'surmise', 'censure', 'frivolous', 'tirade', 'chastise', 'grueling', 'turbulence', 'clamor', 'haphazard', 'unimpeachable', 'coalesce', 'heretic', 'unobtrusive', 'cognizant', 'hindrance', 'usurp', 'commiserate', 'hypocrisy', 'vacillate', 'composure', 'iconoclast', 'whimsical']\n"
     ]
    }
   ],
   "source": [
    "text22 = text2.split(' ')\n",
    "print(text22)"
   ]
  },
  {
   "cell_type": "code",
   "execution_count": 54,
   "metadata": {},
   "outputs": [],
   "source": [
    "text3 = 'anachronistic empathy perfidious abbreviate emulate precocious abdicate enervating pretentious abstinence enhance procrastinate adulation ephemeral prosaic adversity evanescent prosperity aesthetic exasperation provocative amicable exemplary prudent anecdote extenuating querulous anonymous florid rancorous antagonist fortuitous reclusive arid frugal reconciliation assiduous hackneyed renovation asylum haughty resilient benevolent hedonist restrained camaraderie hypothesis reverence censure impetuous sagacity circuitous impute scrutinize clairvoyant incompatible spontaneity collaborate inconsequential spurious compassion inevitable submissive compromise integrity substantiate condescending intrepid subtle conditional intuitive superficial conformist jubilation superfluous congregation lobbyist suppress convergence longevity surreptitious deleterious mundane tactful demagogue nonchalant tenacious digression novice transient diligent opulent venerable discredit orator vindicate disdain ostentatious wary divergent parched zealot'"
   ]
  },
  {
   "cell_type": "code",
   "execution_count": 55,
   "metadata": {},
   "outputs": [
    {
     "name": "stdout",
     "output_type": "stream",
     "text": [
      "['anachronistic', 'empathy', 'perfidious', 'abbreviate', 'emulate', 'precocious', 'abdicate', 'enervating', 'pretentious', 'abstinence', 'enhance', 'procrastinate', 'adulation', 'ephemeral', 'prosaic', 'adversity', 'evanescent', 'prosperity', 'aesthetic', 'exasperation', 'provocative', 'amicable', 'exemplary', 'prudent', 'anecdote', 'extenuating', 'querulous', 'anonymous', 'florid', 'rancorous', 'antagonist', 'fortuitous', 'reclusive', 'arid', 'frugal', 'reconciliation', 'assiduous', 'hackneyed', 'renovation', 'asylum', 'haughty', 'resilient', 'benevolent', 'hedonist', 'restrained', 'camaraderie', 'hypothesis', 'reverence', 'censure', 'impetuous', 'sagacity', 'circuitous', 'impute', 'scrutinize', 'clairvoyant', 'incompatible', 'spontaneity', 'collaborate', 'inconsequential', 'spurious', 'compassion', 'inevitable', 'submissive', 'compromise', 'integrity', 'substantiate', 'condescending', 'intrepid', 'subtle', 'conditional', 'intuitive', 'superficial', 'conformist', 'jubilation', 'superfluous', 'congregation', 'lobbyist', 'suppress', 'convergence', 'longevity', 'surreptitious', 'deleterious', 'mundane', 'tactful', 'demagogue', 'nonchalant', 'tenacious', 'digression', 'novice', 'transient', 'diligent', 'opulent', 'venerable', 'discredit', 'orator', 'vindicate', 'disdain', 'ostentatious', 'wary', 'divergent', 'parched', 'zealot']\n"
     ]
    }
   ],
   "source": [
    "text33 = text3.split(' ')\n",
    "print(text33)"
   ]
  },
  {
   "cell_type": "code",
   "execution_count": 14,
   "metadata": {},
   "outputs": [
    {
     "name": "stdout",
     "output_type": "stream",
     "text": [
      "['abstract', 'divert', 'oppose', 'admonish', 'dormant', 'panacea', 'advocate', 'egocentric', 'perfunctory', 'alternative', 'elusive', 'preposterous', 'ambiguous', 'emulate', 'precarious', 'analogy', 'equitable', 'precipitate', 'anarchy', 'eradicate', 'preclude', 'assiduous', 'estrange', 'proficient', 'assimilate', 'exacerbate', 'propensity', 'augment', 'expedite', 'qualitative', 'authentic', 'fabricate', 'quantitative', 'belligerent', 'facilitate', 'recalcitrant', 'bolster', 'fortuitous', 'redeem', 'bureaucratic', 'fraudulent', 'rejuvenate', 'circumvent', 'heinous', 'relegate', 'coalition', 'hypothetical', 'relinquish', 'cohesive', 'illicit', 'repugnant', 'collaborate', 'imminent', 'resilient', 'comply', 'impetuous', 'retrospect', 'concurrent', 'incongruous', 'sanction', 'connotation', 'indigenous', 'spontaneous', 'constituent', 'indiscriminate', 'static', 'contingent', 'inherent', 'stringent', 'criteria', 'jurisdiction', 'subordinate', 'demeanor', 'lax', 'subsidize', 'deplore', 'meticulous', 'tenuous', 'derogatory', 'negligent', 'travesty', 'disparity', 'nonchalant', 'tumult', 'disseminate', 'oblivious', 'unilateral', 'dissident', 'obscure', 'validate', 'distraught', 'omnipotent', 'vindicate', 'docile', 'opportune', 'zealot', 'aberration', 'conciliatory', 'incessant', 'contract', 'incidental', 'accolade', 'copious', 'incite', 'accommodate', 'cordial', 'incorrigible', 'aesthetic', 'dearth', 'indict', 'affinity', 'debilitate', 'indoctrinate', 'altercation', 'decadence', 'insurgent', 'ameliorate', 'deference', 'intangible', 'amicable', 'delineate', 'judicious', 'deprecate', 'lavish', 'anomaly', 'despot', 'listless', 'appall', 'devious', 'meager', 'archaic', 'didactic', 'meander', 'arduous', 'disparage', 'articulate', 'dissonance', 'obliterate', 'astute', 'duplicity', 'ponderous', 'authoritarian', 'edifice', 'aversion', 'effervescent', 'prerequisite', 'biased', 'egregious', 'proximity', 'brevity', 'rectify', 'cajole', 'equivocal', 'rescind', 'callous', 'erroneous', 'resolution', 'capitulate', 'exemplary', 'rigorous', 'catalyst', 'expedient', 'scrutinize', 'catharsis', 'extraneous', 'substantiate', 'caustic', 'formidable', 'surmise', 'censure', 'frivolous', 'tirade', 'chastise', 'grueling', 'turbulence', 'clamor', 'haphazard', 'unimpeachable', 'coalesce', 'heretic', 'unobtrusive', 'cognizant', 'hindrance', 'usurp', 'commiserate', 'hypocrisy', 'vacillate', 'composure', 'iconoclast', 'whimsical']\n"
     ]
    }
   ],
   "source": [
    "text11 = ['abstract', 'divert', 'oppose', 'admonish', 'dormant', 'panacea', 'advocate', 'egocentric', 'perfunctory', 'alternative', 'elusive', 'preposterous', 'ambiguous', 'emulate', 'precarious', 'analogy', 'equitable', 'precipitate', 'anarchy', 'eradicate', 'preclude', 'assiduous', 'estrange', 'proficient', 'assimilate', 'exacerbate', 'propensity', 'augment', 'expedite', 'qualitative', 'authentic', 'fabricate', 'quantitative', 'belligerent', 'facilitate', 'recalcitrant', 'bolster', 'fortuitous', 'redeem', 'bureaucratic', 'fraudulent', 'rejuvenate', 'circumvent', 'heinous', 'relegate', 'coalition', 'hypothetical', 'relinquish', 'cohesive', 'illicit', 'repugnant', 'collaborate', 'imminent', 'resilient', 'comply', 'impetuous', 'retrospect', 'concurrent', 'incongruous', 'sanction', 'connotation', 'indigenous', 'spontaneous', 'constituent', 'indiscriminate', 'static', 'contingent', 'inherent', 'stringent', 'criteria', 'jurisdiction', 'subordinate', 'demeanor', 'lax', 'subsidize', 'deplore', 'meticulous', 'tenuous', 'derogatory', 'negligent', 'travesty', 'disparity', 'nonchalant', 'tumult', 'disseminate', 'oblivious', 'unilateral', 'dissident', 'obscure', 'validate', 'distraught', 'omnipotent', 'vindicate', 'docile', 'opportune', 'zealot']\n",
    "text22 = ['aberration', 'conciliatory', 'incessant', 'abstract', 'contract', 'incidental', 'accolade', 'copious', 'incite', 'accommodate', 'cordial', 'incorrigible', 'aesthetic', 'dearth', 'indict', 'affinity', 'debilitate', 'indoctrinate', 'altercation', 'decadence', 'insurgent', 'ameliorate', 'deference', 'intangible', 'amicable', 'delineate', 'judicious', 'anarchy', 'deprecate', 'lavish', 'anomaly', 'despot', 'listless', 'appall', 'devious', 'meager', 'archaic', 'didactic', 'meander', 'arduous', 'disparage', 'negligent', 'articulate', 'dissonance', 'obliterate', 'astute', 'duplicity', 'ponderous', 'authoritarian', 'edifice', 'preclude', 'aversion', 'effervescent', 'prerequisite', 'biased', 'egregious', 'proximity', 'brevity', 'elusive', 'rectify', 'cajole', 'equivocal', 'rescind', 'callous', 'erroneous', 'resolution', 'capitulate', 'exemplary', 'rigorous', 'catalyst', 'expedient', 'scrutinize', 'catharsis', 'extraneous', 'substantiate', 'caustic', 'formidable', 'surmise', 'censure', 'frivolous', 'tirade', 'chastise', 'grueling', 'turbulence', 'clamor', 'haphazard', 'unimpeachable', 'coalesce', 'heretic', 'unobtrusive', 'cognizant', 'hindrance', 'usurp', 'commiserate', 'hypocrisy', 'vacillate', 'composure', 'iconoclast', 'whimsical']\n",
    "for word in text22:\n",
    "    if word not in text11:\n",
    "        text11.append(word)\n",
    "print(text11)"
   ]
  },
  {
   "cell_type": "code",
   "execution_count": 15,
   "metadata": {},
   "outputs": [
    {
     "name": "stdout",
     "output_type": "stream",
     "text": [
      "['abstract', 'divert', 'oppose', 'admonish', 'dormant', 'panacea', 'advocate', 'egocentric', 'perfunctory', 'alternative', 'elusive', 'preposterous', 'ambiguous', 'emulate', 'precarious', 'analogy', 'equitable', 'precipitate', 'anarchy', 'eradicate', 'preclude', 'assiduous', 'estrange', 'proficient', 'assimilate', 'exacerbate', 'propensity', 'augment', 'expedite', 'qualitative', 'authentic', 'fabricate', 'quantitative', 'belligerent', 'facilitate', 'recalcitrant', 'bolster', 'fortuitous', 'redeem', 'bureaucratic', 'fraudulent', 'rejuvenate', 'circumvent', 'heinous', 'relegate', 'coalition', 'hypothetical', 'relinquish', 'cohesive', 'illicit', 'repugnant', 'collaborate', 'imminent', 'resilient', 'comply', 'impetuous', 'retrospect', 'concurrent', 'incongruous', 'sanction', 'connotation', 'indigenous', 'spontaneous', 'constituent', 'indiscriminate', 'static', 'contingent', 'inherent', 'stringent', 'criteria', 'jurisdiction', 'subordinate', 'demeanor', 'lax', 'subsidize', 'deplore', 'meticulous', 'tenuous', 'derogatory', 'negligent', 'travesty', 'disparity', 'nonchalant', 'tumult', 'disseminate', 'oblivious', 'unilateral', 'dissident', 'obscure', 'validate', 'distraught', 'omnipotent', 'vindicate', 'docile', 'opportune', 'zealot', 'aberration', 'conciliatory', 'incessant', 'contract', 'incidental', 'accolade', 'copious', 'incite', 'accommodate', 'cordial', 'incorrigible', 'aesthetic', 'dearth', 'indict', 'affinity', 'debilitate', 'indoctrinate', 'altercation', 'decadence', 'insurgent', 'ameliorate', 'deference', 'intangible', 'amicable', 'delineate', 'judicious', 'deprecate', 'lavish', 'anomaly', 'despot', 'listless', 'appall', 'devious', 'meager', 'archaic', 'didactic', 'meander', 'arduous', 'disparage', 'articulate', 'dissonance', 'obliterate', 'astute', 'duplicity', 'ponderous', 'authoritarian', 'edifice', 'aversion', 'effervescent', 'prerequisite', 'biased', 'egregious', 'proximity', 'brevity', 'rectify', 'cajole', 'equivocal', 'rescind', 'callous', 'erroneous', 'resolution', 'capitulate', 'exemplary', 'rigorous', 'catalyst', 'expedient', 'scrutinize', 'catharsis', 'extraneous', 'substantiate', 'caustic', 'formidable', 'surmise', 'censure', 'frivolous', 'tirade', 'chastise', 'grueling', 'turbulence', 'clamor', 'haphazard', 'unimpeachable', 'coalesce', 'heretic', 'unobtrusive', 'cognizant', 'hindrance', 'usurp', 'commiserate', 'hypocrisy', 'vacillate', 'composure', 'iconoclast', 'whimsical', 'anachronistic', 'empathy', 'perfidious', 'abbreviate', 'precocious', 'abdicate', 'enervating', 'pretentious', 'abstinence', 'enhance', 'procrastinate', 'adulation', 'ephemeral', 'prosaic', 'adversity', 'evanescent', 'prosperity', 'exasperation', 'provocative', 'prudent', 'anecdote', 'extenuating', 'querulous', 'anonymous', 'florid', 'rancorous', 'antagonist', 'reclusive', 'arid', 'frugal', 'reconciliation', 'hackneyed', 'renovation', 'asylum', 'haughty', 'benevolent', 'hedonist', 'restrained', 'camaraderie', 'hypothesis', 'reverence', 'sagacity', 'circuitous', 'impute', 'clairvoyant', 'incompatible', 'spontaneity', 'inconsequential', 'spurious', 'compassion', 'inevitable', 'submissive', 'compromise', 'integrity', 'condescending', 'intrepid', 'subtle', 'conditional', 'intuitive', 'superficial', 'conformist', 'jubilation', 'superfluous', 'congregation', 'lobbyist', 'suppress', 'convergence', 'longevity', 'surreptitious', 'deleterious', 'mundane', 'tactful', 'demagogue', 'tenacious', 'digression', 'novice', 'transient', 'diligent', 'opulent', 'venerable', 'discredit', 'orator', 'disdain', 'ostentatious', 'wary', 'divergent', 'parched']\n"
     ]
    }
   ],
   "source": [
    "text12 = ['abstract', 'divert', 'oppose', 'admonish', 'dormant', 'panacea', 'advocate', 'egocentric', 'perfunctory', 'alternative', 'elusive', 'preposterous', 'ambiguous', 'emulate', 'precarious', 'analogy', 'equitable', 'precipitate', 'anarchy', 'eradicate', 'preclude', 'assiduous', 'estrange', 'proficient', 'assimilate', 'exacerbate', 'propensity', 'augment', 'expedite', 'qualitative', 'authentic', 'fabricate', 'quantitative', 'belligerent', 'facilitate', 'recalcitrant', 'bolster', 'fortuitous', 'redeem', 'bureaucratic', 'fraudulent', 'rejuvenate', 'circumvent', 'heinous', 'relegate', 'coalition', 'hypothetical', 'relinquish', 'cohesive', 'illicit', 'repugnant', 'collaborate', 'imminent', 'resilient', 'comply', 'impetuous', 'retrospect', 'concurrent', 'incongruous', 'sanction', 'connotation', 'indigenous', 'spontaneous', 'constituent', 'indiscriminate', 'static', 'contingent', 'inherent', 'stringent', 'criteria', 'jurisdiction', 'subordinate', 'demeanor', 'lax', 'subsidize', 'deplore', 'meticulous', 'tenuous', 'derogatory', 'negligent', 'travesty', 'disparity', 'nonchalant', 'tumult', 'disseminate', 'oblivious', 'unilateral', 'dissident', 'obscure', 'validate', 'distraught', 'omnipotent', 'vindicate', 'docile', 'opportune', 'zealot', 'aberration', 'conciliatory', 'incessant', 'contract', 'incidental', 'accolade', 'copious', 'incite', 'accommodate', 'cordial', 'incorrigible', 'aesthetic', 'dearth', 'indict', 'affinity', 'debilitate', 'indoctrinate', 'altercation', 'decadence', 'insurgent', 'ameliorate', 'deference', 'intangible', 'amicable', 'delineate', 'judicious', 'deprecate', 'lavish', 'anomaly', 'despot', 'listless', 'appall', 'devious', 'meager', 'archaic', 'didactic', 'meander', 'arduous', 'disparage', 'articulate', 'dissonance', 'obliterate', 'astute', 'duplicity', 'ponderous', 'authoritarian', 'edifice', 'aversion', 'effervescent', 'prerequisite', 'biased', 'egregious', 'proximity', 'brevity', 'rectify', 'cajole', 'equivocal', 'rescind', 'callous', 'erroneous', 'resolution', 'capitulate', 'exemplary', 'rigorous', 'catalyst', 'expedient', 'scrutinize', 'catharsis', 'extraneous', 'substantiate', 'caustic', 'formidable', 'surmise', 'censure', 'frivolous', 'tirade', 'chastise', 'grueling', 'turbulence', 'clamor', 'haphazard', 'unimpeachable', 'coalesce', 'heretic', 'unobtrusive', 'cognizant', 'hindrance', 'usurp', 'commiserate', 'hypocrisy', 'vacillate', 'composure', 'iconoclast', 'whimsical']\n",
    "text33 = ['anachronistic', 'empathy', 'perfidious', 'abbreviate', 'emulate', 'precocious', 'abdicate', 'enervating', 'pretentious', 'abstinence', 'enhance', 'procrastinate', 'adulation', 'ephemeral', 'prosaic', 'adversity', 'evanescent', 'prosperity', 'aesthetic', 'exasperation', 'provocative', 'amicable', 'exemplary', 'prudent', 'anecdote', 'extenuating', 'querulous', 'anonymous', 'florid', 'rancorous', 'antagonist', 'fortuitous', 'reclusive', 'arid', 'frugal', 'reconciliation', 'assiduous', 'hackneyed', 'renovation', 'asylum', 'haughty', 'resilient', 'benevolent', 'hedonist', 'restrained', 'camaraderie', 'hypothesis', 'reverence', 'censure', 'impetuous', 'sagacity', 'circuitous', 'impute', 'scrutinize', 'clairvoyant', 'incompatible', 'spontaneity', 'collaborate', 'inconsequential', 'spurious', 'compassion', 'inevitable', 'submissive', 'compromise', 'integrity', 'substantiate', 'condescending', 'intrepid', 'subtle', 'conditional', 'intuitive', 'superficial', 'conformist', 'jubilation', 'superfluous', 'congregation', 'lobbyist', 'suppress', 'convergence', 'longevity', 'surreptitious', 'deleterious', 'mundane', 'tactful', 'demagogue', 'nonchalant', 'tenacious', 'digression', 'novice', 'transient', 'diligent', 'opulent', 'venerable', 'discredit', 'orator', 'vindicate', 'disdain', 'ostentatious', 'wary', 'divergent', 'parched', 'zealot']\n",
    "for word in text33:\n",
    "    if word not in text12:\n",
    "        text12.append(word)\n",
    "print(text12)"
   ]
  },
  {
   "cell_type": "code",
   "execution_count": null,
   "metadata": {},
   "outputs": [],
   "source": [
    "with open ('highschool_list.txt', mode='w') as file:\n",
    "    for word in text12:\n",
    "        file.write(word + '\\n')"
   ]
  }
 ],
 "metadata": {
  "kernelspec": {
   "display_name": "base",
   "language": "python",
   "name": "python3"
  },
  "language_info": {
   "codemirror_mode": {
    "name": "ipython",
    "version": 3
   },
   "file_extension": ".py",
   "mimetype": "text/x-python",
   "name": "python",
   "nbconvert_exporter": "python",
   "pygments_lexer": "ipython3",
   "version": "3.11.4"
  }
 },
 "nbformat": 4,
 "nbformat_minor": 2
}
