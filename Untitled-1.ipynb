{
 "cells": [
  {
   "cell_type": "code",
   "execution_count": 49,
   "metadata": {},
   "outputs": [],
   "source": [
    "text1 = 'abstract divert oppose admonish dormant panacea advocate egocentric perfunctory alternative elusive preposterous ambiguous emulate precarious analogy equitable precipitate anarchy eradicate preclude assiduous estrange proficient assimilate exacerbate propensity augment expedite qualitative authentic fabricate quantitative belligerent facilitate recalcitrant bolster fortuitous redeem bureaucratic fraudulent rejuvenate circumvent heinous relegate coalition hypothetical relinquish cohesive illicit repugnant collaborate imminent resilient comply impetuous retrospect concurrent incongruous sanction connotation indigenous spontaneous constituent indiscriminate static contingent inherent stringent criteria jurisdiction subordinate demeanor lax subsidize deplore meticulous tenuous derogatory negligent travesty disparity nonchalant tumult disseminate oblivious unilateral dissident obscure validate distraught omnipotent vindicate docile opportune zealot'"
   ]
  },
  {
   "cell_type": "code",
   "execution_count": 75,
   "metadata": {},
   "outputs": [
    {
     "name": "stdout",
     "output_type": "stream",
     "text": [
      "['abstract', 'divert', 'oppose', 'admonish', 'dormant', 'panacea', 'advocate', 'egocentric', 'perfunctory', 'alternative', 'elusive', 'preposterous', 'ambiguous', 'emulate', 'precarious', 'analogy', 'equitable', 'precipitate', 'anarchy', 'eradicate', 'preclude', 'assiduous', 'estrange', 'proficient', 'assimilate', 'exacerbate', 'propensity', 'augment', 'expedite', 'qualitative', 'authentic', 'fabricate', 'quantitative', 'belligerent', 'facilitate', 'recalcitrant', 'bolster', 'fortuitous', 'redeem', 'bureaucratic', 'fraudulent', 'rejuvenate', 'circumvent', 'heinous', 'relegate', 'coalition', 'hypothetical', 'relinquish', 'cohesive', 'illicit', 'repugnant', 'collaborate', 'imminent', 'resilient', 'comply', 'impetuous', 'retrospect', 'concurrent', 'incongruous', 'sanction', 'connotation', 'indigenous', 'spontaneous', 'constituent', 'indiscriminate', 'static', 'contingent', 'inherent', 'stringent', 'criteria', 'jurisdiction', 'subordinate', 'demeanor', 'lax', 'subsidize', 'deplore', 'meticulous', 'tenuous', 'derogatory', 'negligent', 'travesty', 'disparity', 'nonchalant', 'tumult', 'disseminate', 'oblivious', 'unilateral', 'dissident', 'obscure', 'validate', 'distraught', 'omnipotent', 'vindicate', 'docile', 'opportune', 'zealot']\n"
     ]
    }
   ],
   "source": [
    "text11 = text1.split(' ')\n",
    "print(text11)"
   ]
  },
  {
   "cell_type": "code",
   "execution_count": 51,
   "metadata": {},
   "outputs": [],
   "source": [
    "text2 = 'aberration conciliatory incessant abstract contract incidental accolade copious incite accommodate cordial incorrigible aesthetic dearth indict affinity debilitate indoctrinate altercation decadence insurgent ameliorate deference intangible amicable delineate judicious anarchy deprecate lavish anomaly despot listless appall devious meager archaic didactic meander arduous disparage negligent articulate dissonance obliterate astute duplicity ponderous authoritarian edifice preclude aversion effervescent prerequisite biased egregious proximity brevity elusive rectify cajole equivocal rescind callous erroneous resolution capitulate exemplary rigorous catalyst expedient scrutinize catharsis extraneous substantiate caustic formidable surmise censure frivolous tirade chastise grueling turbulence clamor haphazard unimpeachable coalesce heretic unobtrusive cognizant hindrance usurp commiserate hypocrisy vacillate composure iconoclast whimsical'"
   ]
  },
  {
   "cell_type": "code",
   "execution_count": 76,
   "metadata": {},
   "outputs": [
    {
     "name": "stdout",
     "output_type": "stream",
     "text": [
      "['aberration', 'conciliatory', 'incessant', 'abstract', 'contract', 'incidental', 'accolade', 'copious', 'incite', 'accommodate', 'cordial', 'incorrigible', 'aesthetic', 'dearth', 'indict', 'affinity', 'debilitate', 'indoctrinate', 'altercation', 'decadence', 'insurgent', 'ameliorate', 'deference', 'intangible', 'amicable', 'delineate', 'judicious', 'anarchy', 'deprecate', 'lavish', 'anomaly', 'despot', 'listless', 'appall', 'devious', 'meager', 'archaic', 'didactic', 'meander', 'arduous', 'disparage', 'negligent', 'articulate', 'dissonance', 'obliterate', 'astute', 'duplicity', 'ponderous', 'authoritarian', 'edifice', 'preclude', 'aversion', 'effervescent', 'prerequisite', 'biased', 'egregious', 'proximity', 'brevity', 'elusive', 'rectify', 'cajole', 'equivocal', 'rescind', 'callous', 'erroneous', 'resolution', 'capitulate', 'exemplary', 'rigorous', 'catalyst', 'expedient', 'scrutinize', 'catharsis', 'extraneous', 'substantiate', 'caustic', 'formidable', 'surmise', 'censure', 'frivolous', 'tirade', 'chastise', 'grueling', 'turbulence', 'clamor', 'haphazard', 'unimpeachable', 'coalesce', 'heretic', 'unobtrusive', 'cognizant', 'hindrance', 'usurp', 'commiserate', 'hypocrisy', 'vacillate', 'composure', 'iconoclast', 'whimsical']\n"
     ]
    }
   ],
   "source": [
    "text22 = text2.split(' ')\n",
    "print(text22)"
   ]
  },
  {
   "cell_type": "code",
   "execution_count": 54,
   "metadata": {},
   "outputs": [],
   "source": [
    "text3 = 'anachronistic empathy perfidious abbreviate emulate precocious abdicate enervating pretentious abstinence enhance procrastinate adulation ephemeral prosaic adversity evanescent prosperity aesthetic exasperation provocative amicable exemplary prudent anecdote extenuating querulous anonymous florid rancorous antagonist fortuitous reclusive arid frugal reconciliation assiduous hackneyed renovation asylum haughty resilient benevolent hedonist restrained camaraderie hypothesis reverence censure impetuous sagacity circuitous impute scrutinize clairvoyant incompatible spontaneity collaborate inconsequential spurious compassion inevitable submissive compromise integrity substantiate condescending intrepid subtle conditional intuitive superficial conformist jubilation superfluous congregation lobbyist suppress convergence longevity surreptitious deleterious mundane tactful demagogue nonchalant tenacious digression novice transient diligent opulent venerable discredit orator vindicate disdain ostentatious wary divergent parched zealot'"
   ]
  },
  {
   "cell_type": "code",
   "execution_count": 55,
   "metadata": {},
   "outputs": [
    {
     "name": "stdout",
     "output_type": "stream",
     "text": [
      "['anachronistic', 'empathy', 'perfidious', 'abbreviate', 'emulate', 'precocious', 'abdicate', 'enervating', 'pretentious', 'abstinence', 'enhance', 'procrastinate', 'adulation', 'ephemeral', 'prosaic', 'adversity', 'evanescent', 'prosperity', 'aesthetic', 'exasperation', 'provocative', 'amicable', 'exemplary', 'prudent', 'anecdote', 'extenuating', 'querulous', 'anonymous', 'florid', 'rancorous', 'antagonist', 'fortuitous', 'reclusive', 'arid', 'frugal', 'reconciliation', 'assiduous', 'hackneyed', 'renovation', 'asylum', 'haughty', 'resilient', 'benevolent', 'hedonist', 'restrained', 'camaraderie', 'hypothesis', 'reverence', 'censure', 'impetuous', 'sagacity', 'circuitous', 'impute', 'scrutinize', 'clairvoyant', 'incompatible', 'spontaneity', 'collaborate', 'inconsequential', 'spurious', 'compassion', 'inevitable', 'submissive', 'compromise', 'integrity', 'substantiate', 'condescending', 'intrepid', 'subtle', 'conditional', 'intuitive', 'superficial', 'conformist', 'jubilation', 'superfluous', 'congregation', 'lobbyist', 'suppress', 'convergence', 'longevity', 'surreptitious', 'deleterious', 'mundane', 'tactful', 'demagogue', 'nonchalant', 'tenacious', 'digression', 'novice', 'transient', 'diligent', 'opulent', 'venerable', 'discredit', 'orator', 'vindicate', 'disdain', 'ostentatious', 'wary', 'divergent', 'parched', 'zealot']\n"
     ]
    }
   ],
   "source": [
    "text33 = text3.split(' ')\n",
    "print(text33)"
   ]
  },
  {
   "cell_type": "code",
   "execution_count": 48,
   "metadata": {},
   "outputs": [
    {
     "ename": "AttributeError",
     "evalue": "'NoneType' object has no attribute 'extend'",
     "output_type": "error",
     "traceback": [
      "\u001b[0;31m---------------------------------------------------------------------------\u001b[0m",
      "\u001b[0;31mAttributeError\u001b[0m                            Traceback (most recent call last)",
      "\u001b[1;32mUntitled-1.ipynb Cell 8\u001b[0m line \u001b[0;36m2\n\u001b[1;32m      <a href='vscode-notebook-cell:Untitled-1.ipynb?jupyter-notebook#X14sdW50aXRsZWQ%3D?line=0'>1</a>\u001b[0m text12 \u001b[39m=\u001b[39m text11\u001b[39m.\u001b[39mextend(text22)\n\u001b[0;32m----> <a href='vscode-notebook-cell:Untitled-1.ipynb?jupyter-notebook#X14sdW50aXRsZWQ%3D?line=1'>2</a>\u001b[0m all_text \u001b[39m=\u001b[39m text12\u001b[39m.\u001b[39mextend(text33)\n\u001b[1;32m      <a href='vscode-notebook-cell:Untitled-1.ipynb?jupyter-notebook#X14sdW50aXRsZWQ%3D?line=2'>3</a>\u001b[0m all_text_set \u001b[39m=\u001b[39m \u001b[39mset\u001b[39m(all_text)\n\u001b[1;32m      <a href='vscode-notebook-cell:Untitled-1.ipynb?jupyter-notebook#X14sdW50aXRsZWQ%3D?line=3'>4</a>\u001b[0m highschool_list \u001b[39m=\u001b[39m (\u001b[39mlist\u001b[39m(all_text_set))\u001b[39m.\u001b[39msorted()\n",
      "\u001b[0;31mAttributeError\u001b[0m: 'NoneType' object has no attribute 'extend'"
     ]
    }
   ],
   "source": [
    "text12 = text11.extend(text22)\n",
    "all_text = text12.extend(text33)\n",
    "all_text_set = set(all_text)\n",
    "highschool_list = (list(all_text_set)).sorted()"
   ]
  },
  {
   "cell_type": "code",
   "execution_count": 47,
   "metadata": {},
   "outputs": [
    {
     "name": "stdout",
     "output_type": "stream",
     "text": [
      "None\n"
     ]
    }
   ],
   "source": [
    "text12 = text11.extend(text22)\n",
    "print(text12)"
   ]
  },
  {
   "cell_type": "code",
   "execution_count": 73,
   "metadata": {},
   "outputs": [
    {
     "name": "stdout",
     "output_type": "stream",
     "text": [
      "[23, 12, 96, 100, 40, 10, 33, 44, 55, 66, 77, 88]\n"
     ]
    }
   ],
   "source": [
    "sales_first_six_months = [23, 12, 96, 100, 40, 10]\n",
    "sales_last_six_months = [33, 44, 55, 66, 77, 88]\n",
    "sales_first_six_months.extend(sales_last_six_months)\n",
    "print(sales_first_six_months)\n",
    "# Output: [23, 12, 96, 100, 40, 10, 33, 44, 55, 66, 77, 88]"
   ]
  },
  {
   "cell_type": "code",
   "execution_count": 77,
   "metadata": {},
   "outputs": [
    {
     "name": "stdout",
     "output_type": "stream",
     "text": [
      "None\n"
     ]
    }
   ],
   "source": [
    "text11 = ['abstract', 'divert', 'oppose', 'admonish', 'dormant', 'panacea', 'advocate', 'egocentric', 'perfunctory', 'alternative', 'elusive', 'preposterous', 'ambiguous', 'emulate', 'precarious', 'analogy', 'equitable', 'precipitate', 'anarchy', 'eradicate', 'preclude', 'assiduous', 'estrange', 'proficient', 'assimilate', 'exacerbate', 'propensity', 'augment', 'expedite', 'qualitative', 'authentic', 'fabricate', 'quantitative', 'belligerent', 'facilitate', 'recalcitrant', 'bolster', 'fortuitous', 'redeem', 'bureaucratic', 'fraudulent', 'rejuvenate', 'circumvent', 'heinous', 'relegate', 'coalition', 'hypothetical', 'relinquish', 'cohesive', 'illicit', 'repugnant', 'collaborate', 'imminent', 'resilient', 'comply', 'impetuous', 'retrospect', 'concurrent', 'incongruous', 'sanction', 'connotation', 'indigenous', 'spontaneous', 'constituent', 'indiscriminate', 'static', 'contingent', 'inherent', 'stringent', 'criteria', 'jurisdiction', 'subordinate', 'demeanor', 'lax', 'subsidize', 'deplore', 'meticulous', 'tenuous', 'derogatory', 'negligent', 'travesty', 'disparity', 'nonchalant', 'tumult', 'disseminate', 'oblivious', 'unilateral', 'dissident', 'obscure', 'validate', 'distraught', 'omnipotent', 'vindicate', 'docile', 'opportune', 'zealot']\n",
    "text22 = ['aberration', 'conciliatory', 'incessant', 'abstract', 'contract', 'incidental', 'accolade', 'copious', 'incite', 'accommodate', 'cordial', 'incorrigible', 'aesthetic', 'dearth', 'indict', 'affinity', 'debilitate', 'indoctrinate', 'altercation', 'decadence', 'insurgent', 'ameliorate', 'deference', 'intangible', 'amicable', 'delineate', 'judicious', 'anarchy', 'deprecate', 'lavish', 'anomaly', 'despot', 'listless', 'appall', 'devious', 'meager', 'archaic', 'didactic', 'meander', 'arduous', 'disparage', 'negligent', 'articulate', 'dissonance', 'obliterate', 'astute', 'duplicity', 'ponderous', 'authoritarian', 'edifice', 'preclude', 'aversion', 'effervescent', 'prerequisite', 'biased', 'egregious', 'proximity', 'brevity', 'elusive', 'rectify', 'cajole', 'equivocal', 'rescind', 'callous', 'erroneous', 'resolution', 'capitulate', 'exemplary', 'rigorous', 'catalyst', 'expedient', 'scrutinize', 'catharsis', 'extraneous', 'substantiate', 'caustic', 'formidable', 'surmise', 'censure', 'frivolous', 'tirade', 'chastise', 'grueling', 'turbulence', 'clamor', 'haphazard', 'unimpeachable', 'coalesce', 'heretic', 'unobtrusive', 'cognizant', 'hindrance', 'usurp', 'commiserate', 'hypocrisy', 'vacillate', 'composure', 'iconoclast', 'whimsical']\n",
    "text12 = text11.extend(text22)\n",
    "print(text12)"
   ]
  }
 ],
 "metadata": {
  "kernelspec": {
   "display_name": "base",
   "language": "python",
   "name": "python3"
  },
  "language_info": {
   "codemirror_mode": {
    "name": "ipython",
    "version": 3
   },
   "file_extension": ".py",
   "mimetype": "text/x-python",
   "name": "python",
   "nbconvert_exporter": "python",
   "pygments_lexer": "ipython3",
   "version": "3.11.4"
  }
 },
 "nbformat": 4,
 "nbformat_minor": 2
}
